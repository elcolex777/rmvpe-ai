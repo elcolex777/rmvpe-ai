{
 "cells": [
  {
   "cell_type": "code",
   "execution_count": null,
   "metadata": {
    "_cell_guid": "fc2833ca-6157-4074-930a-1bf72464478b",
    "_uuid": "97194436-68e0-4ffd-a0a4-67c0cae25aa8",
    "execution": {
     "iopub.execute_input": "2023-08-08T12:14:04.984722Z",
     "iopub.status.busy": "2023-08-08T12:14:04.984345Z",
     "iopub.status.idle": "2023-08-08T12:17:05.076497Z",
     "shell.execute_reply": "2023-08-08T12:17:05.075256Z",
     "shell.execute_reply.started": "2023-08-08T12:14:04.984693Z"
    },
    "id": "m4lM_QISaGcT",
    "jupyter": {
     "outputs_hidden": false
    },
    "trusted": true
   },
   "outputs": [],
   "source": [
    "!apt-get -y install build-essential python3-dev ffmpeg\n",
    "!pip3 install --upgrade setuptools wheel\n",
    "!pip3 install --upgrade pip\n",
    "!pip3 install faiss-cpu==1.7.2 fairseq gradio==3.14.0 ffmpeg ffmpeg-python praat-parselmouth pyworld numpy==1.23.5 numba==0.56.4 librosa==0.9.2\n",
    "!pip3 install torch torchvision torchaudio\n",
    "##!pip3 install faiss-gpu fairseq gradio==3.35.1 ffmpeg ffmpeg-python praat-parselmouth pyworld numpy==1.23.5 numba==0.56.4 librosa==0.9.2"
   ]
  },
  {
   "cell_type": "code",
   "execution_count": null,
   "metadata": {
    "_cell_guid": "d99f608b-c63c-4a06-a0bf-717475a25394",
    "_uuid": "3834565d-c64b-4a3a-9720-652709f4e14f",
    "execution": {
     "iopub.execute_input": "2023-08-08T12:17:05.079069Z",
     "iopub.status.busy": "2023-08-08T12:17:05.078716Z",
     "iopub.status.idle": "2023-08-08T12:17:07.103410Z",
     "shell.execute_reply": "2023-08-08T12:17:07.101967Z",
     "shell.execute_reply.started": "2023-08-08T12:17:05.079034Z"
    },
    "id": "c2XetvO5aGcU",
    "jupyter": {
     "outputs_hidden": false
    },
    "trusted": true
   },
   "outputs": [],
   "source": [
    "!mkdir content\n",
    "!mkdir content/rmvpe-ai\n",
    "%cd /kaggle/working/content/rmvpe-ai"
   ]
  },
  {
   "cell_type": "code",
   "execution_count": null,
   "metadata": {
    "_cell_guid": "979abafd-97f3-454e-81a7-c1d4642b0957",
    "_uuid": "ffb4a355-d5e9-46d0-9d0d-b4c246928a87",
    "execution": {
     "iopub.execute_input": "2023-08-08T12:18:03.390585Z",
     "iopub.status.busy": "2023-08-08T12:18:03.390144Z",
     "iopub.status.idle": "2023-08-08T12:18:09.114623Z",
     "shell.execute_reply": "2023-08-08T12:18:09.113349Z",
     "shell.execute_reply.started": "2023-08-08T12:18:03.390549Z"
    },
    "id": "dLDioOvhaGcV",
    "jupyter": {
     "outputs_hidden": false
    },
    "trusted": true
   },
   "outputs": [],
   "source": [
    "!git clone -b 'v1.1-patch-no-ui' --single-branch --depth 1 https://github.com/elcolex777/rmvpe-ai.git ."
   ]
  },
  {
   "cell_type": "code",
   "execution_count": null,
   "metadata": {
    "_cell_guid": "b8037221-7147-4292-8290-1012f1a1add7",
    "_uuid": "286f1dfd-35fd-48c0-801c-f2e3298a7fd8",
    "execution": {
     "iopub.execute_input": "2023-08-08T12:18:22.450476Z",
     "iopub.status.busy": "2023-08-08T12:18:22.450044Z",
     "iopub.status.idle": "2023-08-08T12:19:32.561757Z",
     "shell.execute_reply": "2023-08-08T12:19:32.560686Z",
     "shell.execute_reply.started": "2023-08-08T12:18:22.450436Z"
    },
    "id": "zlxYeiOeaGcV",
    "jupyter": {
     "outputs_hidden": false
    },
    "trusted": true
   },
   "outputs": [],
   "source": [
    "!pip install -r requirements.txt"
   ]
  },
  {
   "cell_type": "code",
   "execution_count": null,
   "metadata": {
    "_cell_guid": "8bf89dcd-fded-4166-be57-3d5925f3bb42",
    "_uuid": "258effd7-85ef-451d-9086-3270366881f0",
    "execution": {
     "iopub.execute_input": "2023-08-08T12:20:31.818252Z",
     "iopub.status.busy": "2023-08-08T12:20:31.817807Z",
     "iopub.status.idle": "2023-08-08T12:20:40.358862Z",
     "shell.execute_reply": "2023-08-08T12:20:40.357771Z",
     "shell.execute_reply.started": "2023-08-08T12:20:31.818214Z"
    },
    "id": "6jnyv5vIaGcV",
    "jupyter": {
     "outputs_hidden": false
    },
    "trusted": true
   },
   "outputs": [],
   "source": [
    "!apt -y install -qq aria2"
   ]
  },
  {
   "cell_type": "code",
   "execution_count": null,
   "metadata": {
    "_cell_guid": "5b9dfeb0-2303-47da-8229-83f80a280787",
    "_uuid": "1db7a246-912f-45d0-917d-61e2f1cdaa08",
    "execution": {
     "iopub.execute_input": "2023-08-08T12:20:40.361304Z",
     "iopub.status.busy": "2023-08-08T12:20:40.360949Z",
     "iopub.status.idle": "2023-08-08T12:21:50.733941Z",
     "shell.execute_reply": "2023-08-08T12:21:50.732785Z",
     "shell.execute_reply.started": "2023-08-08T12:20:40.361270Z"
    },
    "id": "5a1zXck3aGcW",
    "jupyter": {
     "outputs_hidden": false
    },
    "trusted": true
   },
   "outputs": [],
   "source": [
    "!aria2c --console-log-level=error -c -x 16 -s 16 -k 1M https://bit.ly/3PnwhB6 -d /kaggle/working/content/rmvpe-ai/pretrained_v2 -o D40k.pth\n",
    "!aria2c --console-log-level=error -c -x 16 -s 16 -k 1M https://bit.ly/45Oa5FE -d /kaggle/working/content/rmvpe-ai/pretrained_v2 -o G40k.pth\n",
    "!aria2c --console-log-level=error -c -x 16 -s 16 -k 1M https://bit.ly/45J4v80 -d /kaggle/working/content/rmvpe-ai/pretrained_v2 -o f0D40k.pth\n",
    "!aria2c --console-log-level=error -c -x 16 -s 16 -k 1M https://bit.ly/45XHOfP -d /kaggle/working/content/rmvpe-ai/pretrained_v2 -o f0G40k.pth\n",
    "\n",
    "!aria2c --console-log-level=error -c -x 16 -s 16 -k 1M https://bit.ly/3L9mNa8 -d /kaggle/working/content/rmvpe-ai -o hubert_base.pt\n",
    "!aria2c --console-log-level=error -c -x 16 -s 16 -k 1M https://bit.ly/47Yxi9Y -d /kaggle/working/content/rmvpe-ai -o rmvpe.pt"
   ]
  },
  {
   "cell_type": "code",
   "execution_count": null,
   "metadata": {
    "_cell_guid": "bb33fe84-133f-4f46-9b55-9d12ae71a11c",
    "_uuid": "8837b647-df9e-4dea-9e45-290dbc202757",
    "execution": {
     "iopub.execute_input": "2023-08-08T12:22:06.057167Z",
     "iopub.status.busy": "2023-08-08T12:22:06.056004Z",
     "iopub.status.idle": "2023-08-08T12:22:16.461648Z",
     "shell.execute_reply": "2023-08-08T12:22:16.460065Z",
     "shell.execute_reply.started": "2023-08-08T12:22:06.057094Z"
    },
    "id": "axkxH-_YaGcX",
    "jupyter": {
     "outputs_hidden": false
    },
    "trusted": true
   },
   "outputs": [],
   "source": [
    "DATASET = \"lukhovchanka-raw\"\n",
    "\n",
    "!mkdir -p \"dataset_raw\"\n",
    "!cp -R /kaggle/input/{DATASET}/* -t \"dataset_raw/\""
   ]
  },
  {
   "cell_type": "code",
   "execution_count": null,
   "metadata": {
    "_cell_guid": "fc2ba4fc-7dcf-4a94-9c51-569549f85e50",
    "_uuid": "e01a84d7-c32f-4242-92ae-de002c15a8dc",
    "execution": {
     "iopub.execute_input": "2023-08-08T12:22:19.329095Z",
     "iopub.status.busy": "2023-08-08T12:22:19.328572Z",
     "iopub.status.idle": "2023-08-08T12:22:19.336526Z",
     "shell.execute_reply": "2023-08-08T12:22:19.335614Z",
     "shell.execute_reply.started": "2023-08-08T12:22:19.329044Z"
    },
    "id": "-TDRrR4PaGcY",
    "jupyter": {
     "outputs_hidden": false
    },
    "trusted": true
   },
   "outputs": [],
   "source": [
    "%cd /kaggle/working/content/rmvpe-ai"
   ]
  },
  {
   "cell_type": "code",
   "execution_count": null,
   "metadata": {
    "_cell_guid": "d640cb2d-efa8-4326-9116-eedf53a389be",
    "_uuid": "c77793f7-b8e0-4173-9f53-7fce3d357fcd",
    "execution": {
     "iopub.execute_input": "2023-08-08T12:51:08.375199Z",
     "iopub.status.busy": "2023-08-08T12:51:08.374762Z",
     "iopub.status.idle": "2023-08-08T12:51:09.397678Z",
     "shell.execute_reply": "2023-08-08T12:51:09.396322Z",
     "shell.execute_reply.started": "2023-08-08T12:51:08.375162Z"
    },
    "id": "GluV-nZvaGcY",
    "jupyter": {
     "outputs_hidden": false
    },
    "trusted": true
   },
   "outputs": [],
   "source": [
    "!mkdir -p logs/mi-test\n",
    "!touch logs/mi-test/preprocess.log\n",
    "#!touch logs/mi-test/filelist.txt\n",
    "#!touch logs/filelist.txt\n",
    "\n",
    "!touch logs/mi-test/extract_f0_feature.log\n",
    "# python extract_f0_print.py logs/mi-test $(nproc) pm\n",
    "# python extract_feature_print.py cpu 1 0 0 logs/mi-test v1"
   ]
  },
  {
   "cell_type": "code",
   "execution_count": null,
   "metadata": {
    "_cell_guid": "e99f592d-ec96-41de-9842-22aea30e4618",
    "_uuid": "397de858-35b6-46d1-8ecd-3f8793ba3ae0",
    "execution": {
     "iopub.execute_input": "2023-08-08T12:23:53.839258Z",
     "iopub.status.busy": "2023-08-08T12:23:53.838778Z",
     "iopub.status.idle": "2023-08-08T12:25:40.939175Z",
     "shell.execute_reply": "2023-08-08T12:25:40.937765Z",
     "shell.execute_reply.started": "2023-08-08T12:23:53.839217Z"
    },
    "id": "YyZXCmR-aGcY",
    "jupyter": {
     "outputs_hidden": false
    },
    "trusted": true
   },
   "outputs": [],
   "source": [
    "# @markdown 模型名\n",
    "MODELNAME = \"mi-test\"  # @param {type:\"string\"}\n",
    "# @markdown 采样率\n",
    "BITRATE = 40000  # @param {type:\"integer\"}\n",
    "# @markdown 使用的进程数\n",
    "THREADCOUNT = 8  # @param {type:\"integer\"}\n",
    "\n",
    "!python3 trainset_preprocess_pipeline_print.py /kaggle/working/content/rmvpe-ai/dataset_raw {BITRATE} {THREADCOUNT} logs/{MODELNAME} True"
   ]
  },
  {
   "cell_type": "code",
   "execution_count": null,
   "metadata": {
    "_cell_guid": "314f3bd5-0080-4c66-a122-dc7e98123883",
    "_uuid": "17f65d2a-1c0a-444d-8f54-2d043c662a54",
    "id": "BI7F2pYyaGcY",
    "jupyter": {
     "outputs_hidden": false
    },
    "trusted": true
   },
   "outputs": [],
   "source": [
    "#!python3 extract_f0_rmvpe.py 2 0 0 \"/kaggle/working/content/rmvpe-ai/logs/mi-test\" True\n",
    "#!python3 extract_f0_rmvpe.py 2 1 0 \"/kaggle/working/content/rmvpe-ai/logs/mi-test\" True"
   ]
  },
  {
   "cell_type": "code",
   "execution_count": null,
   "metadata": {
    "_cell_guid": "f11798a9-5759-463c-b467-df997f701700",
    "_uuid": "872a10b1-f68d-4ba8-8208-228081e90c34",
    "execution": {
     "iopub.execute_input": "2023-08-08T13:01:51.981205Z",
     "iopub.status.busy": "2023-08-08T13:01:51.980662Z",
     "iopub.status.idle": "2023-08-08T13:10:18.050952Z",
     "shell.execute_reply": "2023-08-08T13:10:18.049440Z",
     "shell.execute_reply.started": "2023-08-08T13:01:51.981154Z"
    },
    "id": "61uo0TZJaGcY",
    "jupyter": {
     "outputs_hidden": false
    },
    "trusted": true
   },
   "outputs": [],
   "source": [
    "# @markdown 模型名\n",
    "MODELNAME = \"mi-test\"  # @param {type:\"string\"}\n",
    "# @markdown 使用的进程数\n",
    "THREADCOUNT = 8  # @param {type:\"integer\"}\n",
    "# @markdown 音高提取算法\n",
    "ALGO = \"rmvpe\"  # @param {type:\"string\"} pm|harvest|crepe|rmvpe\n",
    "\n",
    "!python3 extract_f0_print.py logs/{MODELNAME} {THREADCOUNT} {ALGO}\n",
    "\n",
    "!python3 extract_feature_print.py cpu 1 0 0 logs/{MODELNAME} v2"
   ]
  },
  {
   "cell_type": "code",
   "execution_count": null,
   "metadata": {
    "_cell_guid": "7a83b346-659f-40a3-b93e-a737bbea43a0",
    "_uuid": "619eacd5-d0fb-4abe-bffb-18654928fc8e",
    "execution": {
     "iopub.execute_input": "2023-08-08T13:14:15.600958Z",
     "iopub.status.busy": "2023-08-08T13:14:15.600514Z",
     "iopub.status.idle": "2023-08-08T13:14:15.629697Z",
     "shell.execute_reply": "2023-08-08T13:14:15.628575Z",
     "shell.execute_reply.started": "2023-08-08T13:14:15.600921Z"
    },
    "id": "kktagXwnaGcZ",
    "jupyter": {
     "outputs_hidden": false
    },
    "trusted": true
   },
   "outputs": [],
   "source": [
    "# @markdown 模型名\n",
    "MODELNAME = \"mi-test\"  # @param {type:\"string\"}\n",
    "# @markdown 采样率\n",
    "MODELSAMPLE = \"40k\"  # @param {type:\"string\"}\n",
    "\n",
    "!python3 create_filelist_print.py {MODELNAME} v2 True {MODELSAMPLE} 0"
   ]
  },
  {
   "cell_type": "code",
   "execution_count": null,
   "metadata": {
    "_cell_guid": "37667197-6f23-41a4-acab-5b0f9d552803",
    "_uuid": "15eaf840-c740-49a4-a968-2dfb160126fb",
    "id": "3ZtM59b6aGcZ",
    "jupyter": {
     "outputs_hidden": false
    },
    "trusted": true
   },
   "outputs": [],
   "source": [
    "# @markdown 模型名\n",
    "MODELNAME = \"mi-test\"  # @param {type:\"string\"}\n",
    "\n",
    "!python3 train_index_print.py {MODELNAME} v2"
   ]
  },
  {
   "cell_type": "code",
   "execution_count": null,
   "metadata": {
    "_cell_guid": "1d0dce3a-317f-4552-9a79-419ed8c642ff",
    "_uuid": "0a0eabfa-0767-4350-935a-6e6ec56f207f",
    "id": "lL-BhQu2aGcZ",
    "jupyter": {
     "outputs_hidden": false
    },
    "trusted": true
   },
   "outputs": [],
   "source": [
    "# @markdown 模型名\n",
    "MODELNAME = \"mi-test\"  # @param {type:\"string\"}\n",
    "# @markdown 使用的GPU\n",
    "USEGPU = \"1\"  # @param {type:\"string\"}\n",
    "# @markdown 批大小\n",
    "BATCHSIZE = 7  # @param {type:\"integer\"}\n",
    "# @markdown 停止的epoch\n",
    "MODELEPOCH = 800  # @param {type:\"integer\"}\n",
    "# @markdown 保存epoch间隔\n",
    "EPOCHSAVE = 100  # @param {type:\"integer\"}\n",
    "# @markdown 采样率\n",
    "MODELSAMPLE = \"40k\"  # @param {type:\"string\"}\n",
    "# @markdown 是否缓存训练集\n",
    "CACHEDATA = 0  # @param {type:\"integer\"}\n",
    "# @markdown 是否仅保存最新的ckpt文件\n",
    "ONLYLATEST = 0  # @param {type:\"integer\"}\n",
    "\n",
    "\n",
    "!python3 train_nsf_sim_cache_sid_load_pretrain.py -e {MODELNAME} -sr {MODELSAMPLE} -f0 1 -bs {BATCHSIZE} -g {USEGPU} -te {MODELEPOCH} -se {EPOCHSAVE} -pg pretrained_v2/f0G{MODELSAMPLE}.pth -pd pretrained_v2/f0D{MODELSAMPLE}.pth -l {ONLYLATEST} -c {CACHEDATA} -sw 1 -v v2\n",
    "#!python3 train_nsf_sim_cache_sid_load_pretrain.py -e {MODELNAME} -sr {MODELSAMPLE} -f0 1 -bs {BATCHSIZE} -g {USEGPU} -te {MODELEPOCH} -se {EPOCHSAVE} -pg /kaggle/working/content/rmvpe-ai/G_55600.pth -pd /kaggle/working/content/rmvpe-ai/D_55600.pth -l {ONLYLATEST} -c {CACHEDATA} -sw 1 -v v2"
   ]
  }
 ],
 "metadata": {
  "colab": {
   "provenance": []
  },
  "kernelspec": {
   "display_name": "Python 3",
   "language": "python",
   "name": "python3"
  },
  "language_info": {
   "codemirror_mode": {
    "name": "ipython",
    "version": 3
   },
   "file_extension": ".py",
   "mimetype": "text/x-python",
   "name": "python",
   "nbconvert_exporter": "python",
   "pygments_lexer": "ipython3",
   "version": "3.6.4"
  }
 },
 "nbformat": 4,
 "nbformat_minor": 0
}
